{
 "cells": [
  {
   "cell_type": "code",
   "execution_count": 2,
   "id": "dc4c92dc-97a9-4336-a718-301a9843c628",
   "metadata": {},
   "outputs": [
    {
     "name": "stdout",
     "output_type": "stream",
     "text": [
      "Python executable: /home/student/de-prj/de-venv/bin/python\n",
      "Python version: 3.10.12 (main, Nov 20 2023, 15:14:05) [GCC 11.4.0]\n",
      "Kernel: <ipykernel.ipkernel.IPythonKernel object at 0x7f82d67d8640>\n"
     ]
    }
   ],
   "source": [
    "import sys\n",
    "import IPython\n",
    "\n",
    "print(\"Python executable:\", sys.executable)\n",
    "print(\"Python version:\", sys.version)\n",
    "print(\"Kernel:\", IPython.get_ipython().kernel)"
   ]
  },
  {
   "cell_type": "code",
   "execution_count": 3,
   "id": "a6488152-24d3-4f28-866d-595ac7a7269b",
   "metadata": {
    "scrolled": true
   },
   "outputs": [
    {
     "name": "stdout",
     "output_type": "stream",
     "text": [
      "Requirement already satisfied: jupyterlab-git in ./de-venv/lib/python3.10/site-packages (0.50.1)\n",
      "Requirement already satisfied: jupyter-server<3,>=2.0.1 in ./de-venv/lib/python3.10/site-packages (from jupyterlab-git) (2.14.2)\n",
      "Requirement already satisfied: nbdime~=4.0.1 in ./de-venv/lib/python3.10/site-packages (from jupyterlab-git) (4.0.1)\n",
      "Requirement already satisfied: nbformat in ./de-venv/lib/python3.10/site-packages (from jupyterlab-git) (5.10.4)\n",
      "Requirement already satisfied: packaging in ./de-venv/lib/python3.10/site-packages (from jupyterlab-git) (24.1)\n",
      "Requirement already satisfied: pexpect in ./de-venv/lib/python3.10/site-packages (from jupyterlab-git) (4.9.0)\n",
      "Requirement already satisfied: traitlets~=5.0 in ./de-venv/lib/python3.10/site-packages (from jupyterlab-git) (5.14.3)\n",
      "Requirement already satisfied: anyio>=3.1.0 in ./de-venv/lib/python3.10/site-packages (from jupyter-server<3,>=2.0.1->jupyterlab-git) (4.4.0)\n",
      "Requirement already satisfied: argon2-cffi>=21.1 in ./de-venv/lib/python3.10/site-packages (from jupyter-server<3,>=2.0.1->jupyterlab-git) (23.1.0)\n",
      "Requirement already satisfied: jinja2>=3.0.3 in ./de-venv/lib/python3.10/site-packages (from jupyter-server<3,>=2.0.1->jupyterlab-git) (3.1.4)\n",
      "Requirement already satisfied: jupyter-client>=7.4.4 in ./de-venv/lib/python3.10/site-packages (from jupyter-server<3,>=2.0.1->jupyterlab-git) (8.6.2)\n",
      "Requirement already satisfied: jupyter-core!=5.0.*,>=4.12 in ./de-venv/lib/python3.10/site-packages (from jupyter-server<3,>=2.0.1->jupyterlab-git) (5.7.2)\n",
      "Requirement already satisfied: jupyter-events>=0.9.0 in ./de-venv/lib/python3.10/site-packages (from jupyter-server<3,>=2.0.1->jupyterlab-git) (0.10.0)\n",
      "Requirement already satisfied: jupyter-server-terminals>=0.4.4 in ./de-venv/lib/python3.10/site-packages (from jupyter-server<3,>=2.0.1->jupyterlab-git) (0.5.3)\n",
      "Requirement already satisfied: nbconvert>=6.4.4 in ./de-venv/lib/python3.10/site-packages (from jupyter-server<3,>=2.0.1->jupyterlab-git) (7.16.4)\n",
      "Requirement already satisfied: overrides>=5.0 in ./de-venv/lib/python3.10/site-packages (from jupyter-server<3,>=2.0.1->jupyterlab-git) (7.7.0)\n",
      "Requirement already satisfied: prometheus-client>=0.9 in ./de-venv/lib/python3.10/site-packages (from jupyter-server<3,>=2.0.1->jupyterlab-git) (0.20.0)\n",
      "Requirement already satisfied: pyzmq>=24 in ./de-venv/lib/python3.10/site-packages (from jupyter-server<3,>=2.0.1->jupyterlab-git) (26.0.3)\n",
      "Requirement already satisfied: send2trash>=1.8.2 in ./de-venv/lib/python3.10/site-packages (from jupyter-server<3,>=2.0.1->jupyterlab-git) (1.8.3)\n",
      "Requirement already satisfied: terminado>=0.8.3 in ./de-venv/lib/python3.10/site-packages (from jupyter-server<3,>=2.0.1->jupyterlab-git) (0.18.1)\n",
      "Requirement already satisfied: tornado>=6.2.0 in ./de-venv/lib/python3.10/site-packages (from jupyter-server<3,>=2.0.1->jupyterlab-git) (6.4.1)\n",
      "Requirement already satisfied: websocket-client>=1.7 in ./de-venv/lib/python3.10/site-packages (from jupyter-server<3,>=2.0.1->jupyterlab-git) (1.8.0)\n",
      "Requirement already satisfied: colorama in ./de-venv/lib/python3.10/site-packages (from nbdime~=4.0.1->jupyterlab-git) (0.4.6)\n",
      "Requirement already satisfied: gitpython!=2.1.4,!=2.1.5,!=2.1.6 in ./de-venv/lib/python3.10/site-packages (from nbdime~=4.0.1->jupyterlab-git) (3.1.43)\n",
      "Requirement already satisfied: jupyter-server-mathjax>=0.2.2 in ./de-venv/lib/python3.10/site-packages (from nbdime~=4.0.1->jupyterlab-git) (0.2.6)\n",
      "Requirement already satisfied: pygments in ./de-venv/lib/python3.10/site-packages (from nbdime~=4.0.1->jupyterlab-git) (2.18.0)\n",
      "Requirement already satisfied: requests in ./de-venv/lib/python3.10/site-packages (from nbdime~=4.0.1->jupyterlab-git) (2.32.3)\n",
      "Requirement already satisfied: fastjsonschema>=2.15 in ./de-venv/lib/python3.10/site-packages (from nbformat->jupyterlab-git) (2.20.0)\n",
      "Requirement already satisfied: jsonschema>=2.6 in ./de-venv/lib/python3.10/site-packages (from nbformat->jupyterlab-git) (4.23.0)\n",
      "Requirement already satisfied: ptyprocess>=0.5 in ./de-venv/lib/python3.10/site-packages (from pexpect->jupyterlab-git) (0.7.0)\n",
      "Requirement already satisfied: idna>=2.8 in ./de-venv/lib/python3.10/site-packages (from anyio>=3.1.0->jupyter-server<3,>=2.0.1->jupyterlab-git) (3.7)\n",
      "Requirement already satisfied: sniffio>=1.1 in ./de-venv/lib/python3.10/site-packages (from anyio>=3.1.0->jupyter-server<3,>=2.0.1->jupyterlab-git) (1.3.1)\n",
      "Requirement already satisfied: exceptiongroup>=1.0.2 in ./de-venv/lib/python3.10/site-packages (from anyio>=3.1.0->jupyter-server<3,>=2.0.1->jupyterlab-git) (1.2.2)\n",
      "Requirement already satisfied: typing-extensions>=4.1 in ./de-venv/lib/python3.10/site-packages (from anyio>=3.1.0->jupyter-server<3,>=2.0.1->jupyterlab-git) (4.12.2)\n",
      "Requirement already satisfied: argon2-cffi-bindings in ./de-venv/lib/python3.10/site-packages (from argon2-cffi>=21.1->jupyter-server<3,>=2.0.1->jupyterlab-git) (21.2.0)\n",
      "Requirement already satisfied: gitdb<5,>=4.0.1 in ./de-venv/lib/python3.10/site-packages (from gitpython!=2.1.4,!=2.1.5,!=2.1.6->nbdime~=4.0.1->jupyterlab-git) (4.0.11)\n",
      "Requirement already satisfied: MarkupSafe>=2.0 in ./de-venv/lib/python3.10/site-packages (from jinja2>=3.0.3->jupyter-server<3,>=2.0.1->jupyterlab-git) (2.1.5)\n",
      "Requirement already satisfied: attrs>=22.2.0 in ./de-venv/lib/python3.10/site-packages (from jsonschema>=2.6->nbformat->jupyterlab-git) (23.2.0)\n",
      "Requirement already satisfied: jsonschema-specifications>=2023.03.6 in ./de-venv/lib/python3.10/site-packages (from jsonschema>=2.6->nbformat->jupyterlab-git) (2023.12.1)\n",
      "Requirement already satisfied: referencing>=0.28.4 in ./de-venv/lib/python3.10/site-packages (from jsonschema>=2.6->nbformat->jupyterlab-git) (0.35.1)\n",
      "Requirement already satisfied: rpds-py>=0.7.1 in ./de-venv/lib/python3.10/site-packages (from jsonschema>=2.6->nbformat->jupyterlab-git) (0.19.0)\n",
      "Requirement already satisfied: python-dateutil>=2.8.2 in ./de-venv/lib/python3.10/site-packages (from jupyter-client>=7.4.4->jupyter-server<3,>=2.0.1->jupyterlab-git) (2.9.0.post0)\n",
      "Requirement already satisfied: platformdirs>=2.5 in ./de-venv/lib/python3.10/site-packages (from jupyter-core!=5.0.*,>=4.12->jupyter-server<3,>=2.0.1->jupyterlab-git) (4.2.2)\n",
      "Requirement already satisfied: python-json-logger>=2.0.4 in ./de-venv/lib/python3.10/site-packages (from jupyter-events>=0.9.0->jupyter-server<3,>=2.0.1->jupyterlab-git) (2.0.7)\n",
      "Requirement already satisfied: pyyaml>=5.3 in ./de-venv/lib/python3.10/site-packages (from jupyter-events>=0.9.0->jupyter-server<3,>=2.0.1->jupyterlab-git) (6.0.1)\n",
      "Requirement already satisfied: rfc3339-validator in ./de-venv/lib/python3.10/site-packages (from jupyter-events>=0.9.0->jupyter-server<3,>=2.0.1->jupyterlab-git) (0.1.4)\n",
      "Requirement already satisfied: rfc3986-validator>=0.1.1 in ./de-venv/lib/python3.10/site-packages (from jupyter-events>=0.9.0->jupyter-server<3,>=2.0.1->jupyterlab-git) (0.1.1)\n",
      "Requirement already satisfied: beautifulsoup4 in ./de-venv/lib/python3.10/site-packages (from nbconvert>=6.4.4->jupyter-server<3,>=2.0.1->jupyterlab-git) (4.12.3)\n",
      "Requirement already satisfied: bleach!=5.0.0 in ./de-venv/lib/python3.10/site-packages (from nbconvert>=6.4.4->jupyter-server<3,>=2.0.1->jupyterlab-git) (6.1.0)\n",
      "Requirement already satisfied: defusedxml in ./de-venv/lib/python3.10/site-packages (from nbconvert>=6.4.4->jupyter-server<3,>=2.0.1->jupyterlab-git) (0.7.1)\n",
      "Requirement already satisfied: jupyterlab-pygments in ./de-venv/lib/python3.10/site-packages (from nbconvert>=6.4.4->jupyter-server<3,>=2.0.1->jupyterlab-git) (0.3.0)\n",
      "Requirement already satisfied: mistune<4,>=2.0.3 in ./de-venv/lib/python3.10/site-packages (from nbconvert>=6.4.4->jupyter-server<3,>=2.0.1->jupyterlab-git) (3.0.2)\n",
      "Requirement already satisfied: nbclient>=0.5.0 in ./de-venv/lib/python3.10/site-packages (from nbconvert>=6.4.4->jupyter-server<3,>=2.0.1->jupyterlab-git) (0.10.0)\n",
      "Requirement already satisfied: pandocfilters>=1.4.1 in ./de-venv/lib/python3.10/site-packages (from nbconvert>=6.4.4->jupyter-server<3,>=2.0.1->jupyterlab-git) (1.5.1)\n",
      "Requirement already satisfied: tinycss2 in ./de-venv/lib/python3.10/site-packages (from nbconvert>=6.4.4->jupyter-server<3,>=2.0.1->jupyterlab-git) (1.3.0)\n",
      "Requirement already satisfied: charset-normalizer<4,>=2 in ./de-venv/lib/python3.10/site-packages (from requests->nbdime~=4.0.1->jupyterlab-git) (3.3.2)\n",
      "Requirement already satisfied: urllib3<3,>=1.21.1 in ./de-venv/lib/python3.10/site-packages (from requests->nbdime~=4.0.1->jupyterlab-git) (2.2.2)\n",
      "Requirement already satisfied: certifi>=2017.4.17 in ./de-venv/lib/python3.10/site-packages (from requests->nbdime~=4.0.1->jupyterlab-git) (2024.7.4)\n",
      "Requirement already satisfied: six>=1.9.0 in ./de-venv/lib/python3.10/site-packages (from bleach!=5.0.0->nbconvert>=6.4.4->jupyter-server<3,>=2.0.1->jupyterlab-git) (1.16.0)\n",
      "Requirement already satisfied: webencodings in ./de-venv/lib/python3.10/site-packages (from bleach!=5.0.0->nbconvert>=6.4.4->jupyter-server<3,>=2.0.1->jupyterlab-git) (0.5.1)\n",
      "Requirement already satisfied: smmap<6,>=3.0.1 in ./de-venv/lib/python3.10/site-packages (from gitdb<5,>=4.0.1->gitpython!=2.1.4,!=2.1.5,!=2.1.6->nbdime~=4.0.1->jupyterlab-git) (5.0.1)\n",
      "Requirement already satisfied: fqdn in ./de-venv/lib/python3.10/site-packages (from jsonschema[format-nongpl]>=4.18.0->jupyter-events>=0.9.0->jupyter-server<3,>=2.0.1->jupyterlab-git) (1.5.1)\n",
      "Requirement already satisfied: isoduration in ./de-venv/lib/python3.10/site-packages (from jsonschema[format-nongpl]>=4.18.0->jupyter-events>=0.9.0->jupyter-server<3,>=2.0.1->jupyterlab-git) (20.11.0)\n",
      "Requirement already satisfied: jsonpointer>1.13 in ./de-venv/lib/python3.10/site-packages (from jsonschema[format-nongpl]>=4.18.0->jupyter-events>=0.9.0->jupyter-server<3,>=2.0.1->jupyterlab-git) (3.0.0)\n",
      "Requirement already satisfied: uri-template in ./de-venv/lib/python3.10/site-packages (from jsonschema[format-nongpl]>=4.18.0->jupyter-events>=0.9.0->jupyter-server<3,>=2.0.1->jupyterlab-git) (1.3.0)\n",
      "Requirement already satisfied: webcolors>=24.6.0 in ./de-venv/lib/python3.10/site-packages (from jsonschema[format-nongpl]>=4.18.0->jupyter-events>=0.9.0->jupyter-server<3,>=2.0.1->jupyterlab-git) (24.6.0)\n",
      "Requirement already satisfied: cffi>=1.0.1 in ./de-venv/lib/python3.10/site-packages (from argon2-cffi-bindings->argon2-cffi>=21.1->jupyter-server<3,>=2.0.1->jupyterlab-git) (1.16.0)\n",
      "Requirement already satisfied: soupsieve>1.2 in ./de-venv/lib/python3.10/site-packages (from beautifulsoup4->nbconvert>=6.4.4->jupyter-server<3,>=2.0.1->jupyterlab-git) (2.5)\n",
      "Requirement already satisfied: pycparser in ./de-venv/lib/python3.10/site-packages (from cffi>=1.0.1->argon2-cffi-bindings->argon2-cffi>=21.1->jupyter-server<3,>=2.0.1->jupyterlab-git) (2.22)\n",
      "Requirement already satisfied: arrow>=0.15.0 in ./de-venv/lib/python3.10/site-packages (from isoduration->jsonschema[format-nongpl]>=4.18.0->jupyter-events>=0.9.0->jupyter-server<3,>=2.0.1->jupyterlab-git) (1.3.0)\n",
      "Requirement already satisfied: types-python-dateutil>=2.8.10 in ./de-venv/lib/python3.10/site-packages (from arrow>=0.15.0->isoduration->jsonschema[format-nongpl]>=4.18.0->jupyter-events>=0.9.0->jupyter-server<3,>=2.0.1->jupyterlab-git) (2.9.0.20240316)\n",
      "Note: you may need to restart the kernel to use updated packages.\n"
     ]
    }
   ],
   "source": [
    "%pip install --upgrade jupyterlab-git"
   ]
  },
  {
   "cell_type": "code",
   "execution_count": 1,
   "id": "a167150f-5140-4eff-a57c-f451df073ca3",
   "metadata": {},
   "outputs": [
    {
     "name": "stdout",
     "output_type": "stream",
     "text": [
      "Collecting selenium\n",
      "  Downloading selenium-4.23.0-py3-none-any.whl.metadata (7.1 kB)\n",
      "Requirement already satisfied: urllib3<3,>=1.26 in ./de-venv/lib/python3.10/site-packages (from urllib3[socks]<3,>=1.26->selenium) (2.2.2)\n",
      "Collecting trio~=0.17 (from selenium)\n",
      "  Downloading trio-0.26.0-py3-none-any.whl.metadata (8.8 kB)\n",
      "Collecting trio-websocket~=0.9 (from selenium)\n",
      "  Downloading trio_websocket-0.11.1-py3-none-any.whl.metadata (4.7 kB)\n",
      "Requirement already satisfied: certifi>=2021.10.8 in ./de-venv/lib/python3.10/site-packages (from selenium) (2024.7.4)\n",
      "Collecting typing_extensions~=4.9.0 (from selenium)\n",
      "  Downloading typing_extensions-4.9.0-py3-none-any.whl.metadata (3.0 kB)\n",
      "Requirement already satisfied: websocket-client==1.8.0 in ./de-venv/lib/python3.10/site-packages (from selenium) (1.8.0)\n",
      "Requirement already satisfied: attrs>=23.2.0 in ./de-venv/lib/python3.10/site-packages (from trio~=0.17->selenium) (23.2.0)\n",
      "Collecting sortedcontainers (from trio~=0.17->selenium)\n",
      "  Downloading sortedcontainers-2.4.0-py2.py3-none-any.whl.metadata (10 kB)\n",
      "Requirement already satisfied: idna in ./de-venv/lib/python3.10/site-packages (from trio~=0.17->selenium) (3.7)\n",
      "Collecting outcome (from trio~=0.17->selenium)\n",
      "  Downloading outcome-1.3.0.post0-py2.py3-none-any.whl.metadata (2.6 kB)\n",
      "Requirement already satisfied: sniffio>=1.3.0 in ./de-venv/lib/python3.10/site-packages (from trio~=0.17->selenium) (1.3.1)\n",
      "Requirement already satisfied: exceptiongroup in ./de-venv/lib/python3.10/site-packages (from trio~=0.17->selenium) (1.2.2)\n",
      "Collecting wsproto>=0.14 (from trio-websocket~=0.9->selenium)\n",
      "  Downloading wsproto-1.2.0-py3-none-any.whl.metadata (5.6 kB)\n",
      "Collecting pysocks!=1.5.7,<2.0,>=1.5.6 (from urllib3[socks]<3,>=1.26->selenium)\n",
      "  Downloading PySocks-1.7.1-py3-none-any.whl.metadata (13 kB)\n",
      "Requirement already satisfied: h11<1,>=0.9.0 in ./de-venv/lib/python3.10/site-packages (from wsproto>=0.14->trio-websocket~=0.9->selenium) (0.14.0)\n",
      "Downloading selenium-4.23.0-py3-none-any.whl (9.4 MB)\n",
      "\u001b[2K   \u001b[90m━━━━━━━━━━━━━━━━━━━━━━━━━━━━━━━━━━━━━━━━\u001b[0m \u001b[32m9.4/9.4 MB\u001b[0m \u001b[31m671.8 kB/s\u001b[0m eta \u001b[36m0:00:00\u001b[0m00:01\u001b[0m00:01\u001b[0m\n",
      "\u001b[?25hDownloading trio-0.26.0-py3-none-any.whl (475 kB)\n",
      "\u001b[2K   \u001b[90m━━━━━━━━━━━━━━━━━━━━━━━━━━━━━━━━━━━━━━━\u001b[0m \u001b[32m475.7/475.7 kB\u001b[0m \u001b[31m433.9 kB/s\u001b[0m eta \u001b[36m0:00:00\u001b[0m00:01\u001b[0m00:01\u001b[0m\n",
      "\u001b[?25hDownloading trio_websocket-0.11.1-py3-none-any.whl (17 kB)\n",
      "Downloading typing_extensions-4.9.0-py3-none-any.whl (32 kB)\n",
      "Downloading PySocks-1.7.1-py3-none-any.whl (16 kB)\n",
      "Downloading wsproto-1.2.0-py3-none-any.whl (24 kB)\n",
      "Downloading outcome-1.3.0.post0-py2.py3-none-any.whl (10 kB)\n",
      "Downloading sortedcontainers-2.4.0-py2.py3-none-any.whl (29 kB)\n",
      "Installing collected packages: sortedcontainers, wsproto, typing_extensions, pysocks, outcome, trio, trio-websocket, selenium\n",
      "  Attempting uninstall: typing_extensions\n",
      "    Found existing installation: typing_extensions 4.12.2\n",
      "    Uninstalling typing_extensions-4.12.2:\n",
      "      Successfully uninstalled typing_extensions-4.12.2\n",
      "Successfully installed outcome-1.3.0.post0 pysocks-1.7.1 selenium-4.23.0 sortedcontainers-2.4.0 trio-0.26.0 trio-websocket-0.11.1 typing_extensions-4.9.0 wsproto-1.2.0\n",
      "Note: you may need to restart the kernel to use updated packages.\n"
     ]
    }
   ],
   "source": [
    "%pip install selenium"
   ]
  },
  {
   "cell_type": "code",
   "execution_count": 1,
   "id": "04e37a36-d525-4b60-b056-5d8ffb8006bb",
   "metadata": {},
   "outputs": [],
   "source": [
    "from selenium import webdriver\n",
    "\n",
    "driver = webdriver.Chrome()"
   ]
  },
  {
   "cell_type": "code",
   "execution_count": 1,
   "id": "b7a7da2c-0fe6-4055-90f6-8406e131a963",
   "metadata": {},
   "outputs": [
    {
     "name": "stdout",
     "output_type": "stream",
     "text": [
      "HELLO WORLD!!!!\n"
     ]
    }
   ],
   "source": [
    "print(\"HELLO WORLD!!!!\")"
   ]
  },
  {
   "cell_type": "code",
   "execution_count": 3,
   "id": "774bb867-a4bb-45e1-9ec8-0b1ac3d54320",
   "metadata": {},
   "outputs": [
    {
     "name": "stdout",
     "output_type": "stream",
     "text": [
      "AFTER TESTING BRANCH!!!!!\n"
     ]
    }
   ],
   "source": [
    "print(\"AFTER TESTING BRANCH!!!!!\")"
   ]
  },
  {
   "cell_type": "code",
   "execution_count": 4,
   "id": "e6fd9533-e866-46d4-9b29-381cb3bbbf51",
   "metadata": {},
   "outputs": [
    {
     "name": "stdout",
     "output_type": "stream",
     "text": [
      "WHY CANT SEE TESTING IN REMOTE\n"
     ]
    }
   ],
   "source": [
    "print(\"WHY CANT SEE TESTING IN REMOTE\")"
   ]
  },
  {
   "cell_type": "code",
   "execution_count": 5,
   "id": "d21d0db3-21a4-4276-b3f4-dc57ef4ad9c0",
   "metadata": {},
   "outputs": [
    {
     "data": {
      "text/plain": [
       "'HEELO'"
      ]
     },
     "execution_count": 5,
     "metadata": {},
     "output_type": "execute_result"
    }
   ],
   "source": [
    "\"HEELO\""
   ]
  }
 ],
 "metadata": {
  "kernelspec": {
   "display_name": "de-venv",
   "language": "python",
   "name": "de-venv"
  },
  "language_info": {
   "codemirror_mode": {
    "name": "ipython",
    "version": 3
   },
   "file_extension": ".py",
   "mimetype": "text/x-python",
   "name": "python",
   "nbconvert_exporter": "python",
   "pygments_lexer": "ipython3",
   "version": "3.10.12"
  }
 },
 "nbformat": 4,
 "nbformat_minor": 5
}
